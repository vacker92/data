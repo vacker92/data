{
 "cells": [
  {
   "cell_type": "code",
   "execution_count": 29,
   "id": "0ad1fc14",
   "metadata": {},
   "outputs": [],
   "source": [
    "import pandas as pd\n",
    "gas = pd.read_csv('https://github.com/vacker92/data_gas/blob/main/gasdata/gas.csv?raw=true')"
   ]
  },
  {
   "cell_type": "code",
   "execution_count": 63,
   "id": "27f4e774",
   "metadata": {},
   "outputs": [
    {
     "name": "stdout",
     "output_type": "stream",
     "text": [
      "<class 'pandas.core.frame.DataFrame'>\n",
      "RangeIndex: 368088 entries, 0 to 368087\n",
      "Data columns (total 4 columns):\n",
      " #   Column  Non-Null Count   Dtype  \n",
      "---  ------  --------------   -----  \n",
      " 0   연월일     368088 non-null  object \n",
      " 1   시간      368088 non-null  int64  \n",
      " 2   구분      368088 non-null  object \n",
      " 3   공급량     368088 non-null  float64\n",
      "dtypes: float64(1), int64(1), object(2)\n",
      "memory usage: 11.2+ MB\n"
     ]
    }
   ],
   "source": [
    "gas.info()"
   ]
  },
  {
   "cell_type": "code",
   "execution_count": 77,
   "id": "545b3dfc",
   "metadata": {},
   "outputs": [],
   "source": [
    "gas_01 = pd.pivot_table(gas,['공급량'],['연월일','시간'])"
   ]
  },
  {
   "cell_type": "code",
   "execution_count": 78,
   "id": "4efe861a",
   "metadata": {},
   "outputs": [
    {
     "data": {
      "text/html": [
       "<div>\n",
       "<style scoped>\n",
       "    .dataframe tbody tr th:only-of-type {\n",
       "        vertical-align: middle;\n",
       "    }\n",
       "\n",
       "    .dataframe tbody tr th {\n",
       "        vertical-align: top;\n",
       "    }\n",
       "\n",
       "    .dataframe thead th {\n",
       "        text-align: right;\n",
       "    }\n",
       "</style>\n",
       "<table border=\"1\" class=\"dataframe\">\n",
       "  <thead>\n",
       "    <tr style=\"text-align: right;\">\n",
       "      <th></th>\n",
       "      <th></th>\n",
       "      <th>공급량</th>\n",
       "    </tr>\n",
       "    <tr>\n",
       "      <th>연월일</th>\n",
       "      <th>시간</th>\n",
       "      <th></th>\n",
       "    </tr>\n",
       "  </thead>\n",
       "  <tbody>\n",
       "    <tr>\n",
       "      <th rowspan=\"5\" valign=\"top\">2013-01-01</th>\n",
       "      <th>1</th>\n",
       "      <td>1960.440286</td>\n",
       "    </tr>\n",
       "    <tr>\n",
       "      <th>2</th>\n",
       "      <td>1845.572857</td>\n",
       "    </tr>\n",
       "    <tr>\n",
       "      <th>3</th>\n",
       "      <td>1739.212857</td>\n",
       "    </tr>\n",
       "    <tr>\n",
       "      <th>4</th>\n",
       "      <td>1735.236857</td>\n",
       "    </tr>\n",
       "    <tr>\n",
       "      <th>5</th>\n",
       "      <td>1809.666571</td>\n",
       "    </tr>\n",
       "    <tr>\n",
       "      <th>...</th>\n",
       "      <th>...</th>\n",
       "      <td>...</td>\n",
       "    </tr>\n",
       "    <tr>\n",
       "      <th rowspan=\"5\" valign=\"top\">2018-12-31</th>\n",
       "      <th>20</th>\n",
       "      <td>2460.575286</td>\n",
       "    </tr>\n",
       "    <tr>\n",
       "      <th>21</th>\n",
       "      <td>2400.712429</td>\n",
       "    </tr>\n",
       "    <tr>\n",
       "      <th>22</th>\n",
       "      <td>2332.014571</td>\n",
       "    </tr>\n",
       "    <tr>\n",
       "      <th>23</th>\n",
       "      <td>2218.824143</td>\n",
       "    </tr>\n",
       "    <tr>\n",
       "      <th>24</th>\n",
       "      <td>2087.399429</td>\n",
       "    </tr>\n",
       "  </tbody>\n",
       "</table>\n",
       "<p>52584 rows × 1 columns</p>\n",
       "</div>"
      ],
      "text/plain": [
       "                       공급량\n",
       "연월일        시간             \n",
       "2013-01-01 1   1960.440286\n",
       "           2   1845.572857\n",
       "           3   1739.212857\n",
       "           4   1735.236857\n",
       "           5   1809.666571\n",
       "...                    ...\n",
       "2018-12-31 20  2460.575286\n",
       "           21  2400.712429\n",
       "           22  2332.014571\n",
       "           23  2218.824143\n",
       "           24  2087.399429\n",
       "\n",
       "[52584 rows x 1 columns]"
      ]
     },
     "execution_count": 78,
     "metadata": {},
     "output_type": "execute_result"
    }
   ],
   "source": [
    "gas_01"
   ]
  },
  {
   "cell_type": "code",
   "execution_count": null,
   "id": "aac7a7ef",
   "metadata": {},
   "outputs": [],
   "source": []
  }
 ],
 "metadata": {
  "kernelspec": {
   "display_name": "Python 3 (ipykernel)",
   "language": "python",
   "name": "python3"
  },
  "language_info": {
   "codemirror_mode": {
    "name": "ipython",
    "version": 3
   },
   "file_extension": ".py",
   "mimetype": "text/x-python",
   "name": "python",
   "nbconvert_exporter": "python",
   "pygments_lexer": "ipython3",
   "version": "3.9.7"
  }
 },
 "nbformat": 4,
 "nbformat_minor": 5
}

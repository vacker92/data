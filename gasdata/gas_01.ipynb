{
 "cells": [
  {
   "cell_type": "code",
   "execution_count": 1,
   "id": "47fff43e",
   "metadata": {},
   "outputs": [],
   "source": [
    "import pandas as pd\n",
    "\n",
    "gas = pd.read_csv('https://github.com/vacker92/data_gas/blob/main/gasdata/gas.csv?raw=true')"
   ]
  },
  {
   "cell_type": "code",
   "execution_count": 2,
   "id": "daa41609",
   "metadata": {},
   "outputs": [],
   "source": [
    "gas_time = pd.DataFrame(gas.groupby(['연월일', '시간'])['공급량'].sum())\n",
    "gas_com = pd.DataFrame(gas.groupby(['연월일', '구분'])['공급량'].sum())"
   ]
  },
  {
   "cell_type": "code",
   "execution_count": 3,
   "id": "a65590b8",
   "metadata": {},
   "outputs": [],
   "source": [
    "gas_time.to_csv('data/gas_time.csv',encoding='cp949')\n",
    "gas_com.to_csv('data/gas_com.csv',encoding='cp949')"
   ]
  },
  {
   "cell_type": "code",
   "execution_count": null,
   "id": "5928304b",
   "metadata": {},
   "outputs": [],
   "source": []
  }
 ],
 "metadata": {
  "kernelspec": {
   "display_name": "Python 3 (ipykernel)",
   "language": "python",
   "name": "python3"
  },
  "language_info": {
   "codemirror_mode": {
    "name": "ipython",
    "version": 3
   },
   "file_extension": ".py",
   "mimetype": "text/x-python",
   "name": "python",
   "nbconvert_exporter": "python",
   "pygments_lexer": "ipython3",
   "version": "3.9.7"
  }
 },
 "nbformat": 4,
 "nbformat_minor": 5
}
